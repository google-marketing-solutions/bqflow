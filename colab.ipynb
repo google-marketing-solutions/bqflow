{
  "nbformat": 4,
  "nbformat_minor": 0,
  "metadata": {
    "colab": {
      "name": "BQFlow Colab",
      "provenance": []
    },
    "kernelspec": {
      "name": "python3",
      "display_name": "Python 3"
    }
  },
  "cells": [
    {
      "cell_type": "markdown",
      "metadata": {
        "id": "5d8e29aa0001"
      },
      "source": [
        "#BQFlow\n",
        "This notebook allows you to run any [BQFlow](https://github.com/google/bqflow) workflow. You'll need the following:\n",
        "\n",
        "1. A [BQFlow workflow](https://github.com/google/bqflow/wiki#example-workflows), **local file** or **Google Drive** link.\n",
        "1. A Google [Cloud Project](https://cloud.google.com/).\n",
        "1. A [User](https://developers.google.com/workspace/guides/create-credentials#oauth-client-id) or [Service](https://developers.google.com/workspace/guides/create-credentials#service-account) credential.\n",
        "1. The right [scopes](https://developers.google.com/identity/protocols/oauth2/scopes) and remember to get access to the product you will be pulling from.\n"
      ]
    },
    {
      "cell_type": "markdown",
      "metadata": {
        "id": "5d8e29aa0004"
      },
      "source": [
        "#1. Install Dependencies\n",
        "First install the libraries needed to execute workflows, this only needs to be done once. Just click ▶.\n"
      ]
    },
    {
      "cell_type": "code",
      "execution_count": null,
      "outputs": [],
      "metadata": {
        "id": "5d8e29aa0005"
      },
      "source": [
        "!git clone https://github.com/google/bqflow.git\n",
        "!pip install -r bqflow/requirements.txt"
      ]
    },
    {
      "cell_type": "markdown",
      "metadata": {
        "id": "5d8e29aa0006"
      },
      "source": [
        "#2. Upload Workflow Files\n",
        "Use the **Folder** icon on the left to upload the files in each step...\n",
        "\n",
        "1. Provision a [Google Cloud Project](https://cloud.google.com/).\n",
        "  - Save the **Project Name** or **Project ID**, not the **Project Number** for **Step 3** below.\n",
        "\n",
        "1. If you are using [Service](https://developers.google.com/workspace/guides/create-credentials#service-account) credentials you must assign [scopes](https://developers.google.com/identity/protocols/oauth2/scopes)...\n",
        "  * **Required:** https://www.googleapis.com/auth/bigquery\n",
        "  * **Optional:** https://github.com/google/bqflow#drive-runner-script\n",
        "  * Use the **Folder** icon on left to upload the **/content/service.json** file (default folder).\n",
        "\n",
        "1. If you are using [User](https://developers.google.com/workspace/guides/create-credentials#oauth-client-id) credentials...\n",
        "  1. The file /content/bqflow/config.py defines the scopes.\n",
        "  1. [Configure Authentication Consent Screen](https://console.developers.google.com/apis/credentials/consent)\n",
        "    - Choose Internal if you have GSuite, otherwise choose External.\n",
        "    - For Application Name enter BQFlow\n",
        "    - All other fields are optional, click Save.\n",
        "\n",
        "  1. [Create CLIENT Credentials](https://console.developers.google.com/apis/credentials/oauthclient)\n",
        "    - Choose Desktop or Installed.\n",
        "    - For Name enter: BQFlow.\n",
        "    - Click Create and ignore the confirmation pop-up.\n",
        "\n",
        "  1. [Download CLIENT Credentials File](https://console.developers.google.com/apis/credentials)\n",
        "    - Find your newly created key under **OAuth 2.0 Client IDs** and click download arrow on the right and select JSON format.\n",
        "    - Use the **Folder** icon on left to upload the **/content/client.json** file.\n",
        "\n",
        "  1. Run Auth Tool To Get User Credentials File\n",
        "    - The __/content/user.json__ file will be generated.\n",
        "    - You can save it for future use."
      ]
    },
    {
      "cell_type": "code",
      "source": [
        "#ONLY RUN THIS IF YOU ARE GENERATING USER CREDENTIALS.\n",
        "!python /content/bqflow/auth.py --client \"/content/client.json\" --user \"/content/user.json\" --browserless"
      ],
      "metadata": {
        "id": "lhV2np6Ahq96"
      },
      "execution_count": null,
      "outputs": []
    },
    {
      "cell_type": "markdown",
      "metadata": {
        "id": "5d8e29aa0008"
      },
      "source": [
        "#3. Run The WorkFlow\n",
        "Edit the command below to match the credentials you uploaded.\n",
        "1. Add your **Project Name**.\n",
        "1. Keep or remove the **Service** or **User** paths to match your setup, then click the first ▶.\n",
        "1. Then to run the workflow, click the second ▶.\n",
        "  - A [workflow](https://github.com/google/bqflow/wiki#example-workflows) can be a JSON file you upload to /content/workflow.json.\n",
        "  - It can also be a [Google Drive URL](https://drive.google.com/) link."
      ]
    },
    {
      "cell_type": "code",
      "source": [
        "PROJECT = \"your-project-name\" #@param {type:\"string\"}\n",
        "WORKFLOW = \"/content/workflow.json\" #@param {type:\"string\"}\n",
        "SERVICE = \"/content/service.json\" #@param {type:\"string\"}\n",
        "USER = \"/content/user.json\" #@param {type:\"string\"}"
      ],
      "metadata": {
        "id": "8UqOQT1YdqJl"
      },
      "execution_count": 13,
      "outputs": []
    },
    {
      "cell_type": "code",
      "execution_count": null,
      "outputs": [],
      "metadata": {
        "id": "5d8e29aa0007"
      },
      "source": [
        "!python /content/bqflow/run.py \"{WORKFLOW}\" --user \"{USER}\" --service \"{SERVICE}\" --project \"{PROJECT}\" --verbose\n",
        "\n",
        "\n",
        "\n",
        "\n"
      ]
    },
    {
      "cell_type": "markdown",
      "metadata": {
        "id": "5d8e29aa0002"
      },
      "source": [
        "**Copyright 2022 Google LLC.**\n",
        "\n",
        "Licensed under the Apache License, Version 2.0 (the \"License\");\n",
        "you may not use this file except in compliance with the License.\n",
        "\n",
        "You may obtain a copy of the License at https://www.apache.org/licenses/LICENSE-2.0\n",
        "\n",
        "Unless required by applicable law or agreed to in writing, software\n",
        "distributed under the License is distributed on an \"AS IS\" BASIS,\n",
        "WITHOUT WARRANTIES OR CONDITIONS OF ANY KIND, either express or implied.\n",
        "See the License for the specific language governing permissions and\n",
        "limitations under the License.\n",
        "\n"
      ]
    }
  ]
}
